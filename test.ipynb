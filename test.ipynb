{
 "cells": [
  {
   "cell_type": "code",
   "execution_count": 1,
   "id": "9811be6a",
   "metadata": {},
   "outputs": [],
   "source": [
    "from magnetic_quivers import Quiver, Node, Symmetry"
   ]
  },
  {
   "cell_type": "code",
   "execution_count": 2,
   "id": "e62f7bd6",
   "metadata": {},
   "outputs": [],
   "source": [
    "q = Quiver()\n",
    "\n",
    "g1 = Node('G1', Symmetry('U',1))\n",
    "g2 = Node('G2', Symmetry('U',1))\n",
    "f1 = Node('F1', Symmetry('U',1), 'flavor')\n",
    "f2 = Node('F2', Symmetry('U',1), 'flavor')\n",
    "\n",
    "q.add_edge(f1, g1)\n",
    "q.add_edge(g1, g2)\n",
    "q.add_edge(g2, f2)"
   ]
  },
  {
   "cell_type": "code",
   "execution_count": 3,
   "id": "dcdfd30d",
   "metadata": {},
   "outputs": [
    {
     "name": "stdout",
     "output_type": "stream",
     "text": [
      "<magnetic_quivers.Quiver object at 0x10646b690>\n"
     ]
    }
   ],
   "source": [
    "print(q)"
   ]
  },
  {
   "cell_type": "code",
   "execution_count": 4,
   "id": "dfc30ee1",
   "metadata": {},
   "outputs": [
    {
     "name": "stdout",
     "output_type": "stream",
     "text": [
      "F1 - G1\n",
      "G1 - G2\n",
      "G2 - F2\n"
     ]
    }
   ],
   "source": [
    "for u, v in q.edges():\n",
    "    print(f\"{u.id} - {v.id}\")"
   ]
  },
  {
   "cell_type": "code",
   "execution_count": 6,
   "id": "57d32217",
   "metadata": {},
   "outputs": [
    {
     "name": "stdout",
     "output_type": "stream",
     "text": [
      "0\n"
     ]
    }
   ],
   "source": [
    "print(g1.excess)"
   ]
  },
  {
   "cell_type": "code",
   "execution_count": null,
   "id": "b931806c",
   "metadata": {},
   "outputs": [],
   "source": []
  }
 ],
 "metadata": {
  "kernelspec": {
   "display_name": "cpp",
   "language": "python",
   "name": "python3"
  },
  "language_info": {
   "codemirror_mode": {
    "name": "ipython",
    "version": 3
   },
   "file_extension": ".py",
   "mimetype": "text/x-python",
   "name": "python",
   "nbconvert_exporter": "python",
   "pygments_lexer": "ipython3",
   "version": "3.11.5"
  }
 },
 "nbformat": 4,
 "nbformat_minor": 5
}
