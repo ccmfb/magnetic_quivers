{
 "cells": [
  {
   "cell_type": "code",
   "execution_count": 1,
   "id": "bca00080",
   "metadata": {},
   "outputs": [
    {
     "name": "stdout",
     "output_type": "stream",
     "text": [
      "/Users/carl/Desktop/magnetic_quivers/src\n"
     ]
    }
   ],
   "source": [
    "%cd ../../src\n",
    "\n",
    "from brane_web import BraneWeb"
   ]
  },
  {
   "cell_type": "code",
   "execution_count": 4,
   "id": "0281d45a",
   "metadata": {},
   "outputs": [],
   "source": [
    "web = BraneWeb()\n",
    "\n",
    "web.add_seven_brane('s2', position=(1, 0))\n",
    "web.add_junction('j1', position=(0, 0))\n",
    "web.add_seven_brane('s1', position=(4, 6))"
   ]
  },
  {
   "cell_type": "code",
   "execution_count": 5,
   "id": "b77df705",
   "metadata": {},
   "outputs": [
    {
     "name": "stdout",
     "output_type": "stream",
     "text": [
      "(-1, 0)\n",
      "(1, 0)\n"
     ]
    }
   ],
   "source": [
    "print(\n",
    "    web.charge_into_node('j1', 's2')\n",
    ")\n",
    "\n",
    "print(\n",
    "    web.charge_into_node('s2', 'j1')\n",
    ")"
   ]
  },
  {
   "cell_type": "code",
   "execution_count": 6,
   "id": "d272c348",
   "metadata": {},
   "outputs": [
    {
     "name": "stdout",
     "output_type": "stream",
     "text": [
      "(-2, -3)\n",
      "(2, 3)\n"
     ]
    }
   ],
   "source": [
    "print(\n",
    "    web.charge_into_node('j1', 's1')\n",
    ")\n",
    "\n",
    "print(\n",
    "    web.charge_into_node('s1', 'j1')\n",
    ")"
   ]
  },
  {
   "cell_type": "code",
   "execution_count": null,
   "id": "97b2d0aa",
   "metadata": {},
   "outputs": [],
   "source": []
  }
 ],
 "metadata": {
  "kernelspec": {
   "display_name": "quivers",
   "language": "python",
   "name": "python3"
  },
  "language_info": {
   "codemirror_mode": {
    "name": "ipython",
    "version": 3
   },
   "file_extension": ".py",
   "mimetype": "text/x-python",
   "name": "python",
   "nbconvert_exporter": "python",
   "pygments_lexer": "ipython3",
   "version": "3.13.5"
  }
 },
 "nbformat": 4,
 "nbformat_minor": 5
}
