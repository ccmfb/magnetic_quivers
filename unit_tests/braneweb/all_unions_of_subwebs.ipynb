{
 "cells": [
  {
   "cell_type": "code",
   "execution_count": 1,
   "id": "bca00080",
   "metadata": {},
   "outputs": [
    {
     "name": "stdout",
     "output_type": "stream",
     "text": [
      "/Users/carl/Desktop/magnetic_quivers/src\n"
     ]
    }
   ],
   "source": [
    "%cd ../../src\n",
    "\n",
    "from brane_web import BraneWeb"
   ]
  },
  {
   "cell_type": "code",
   "execution_count": 2,
   "id": "0281d45a",
   "metadata": {},
   "outputs": [],
   "source": [
    "web = BraneWeb()\n",
    "\n",
    "web.add_seven_brane('s1', position=(-1, 0))\n",
    "web.add_seven_brane('s2', position=(1, 0))\n",
    "web.add_seven_brane('s3', position=(4, 6))\n",
    "\n",
    "web.add_junction('j1', position=(0, 0))"
   ]
  },
  {
   "cell_type": "code",
   "execution_count": 6,
   "id": "c329f9de",
   "metadata": {},
   "outputs": [],
   "source": [
    "subweb1 = [('j1', 's2'), ('s1', 'j1')]\n",
    "subweb2 = [('j1', 's3'), ('s2', 'j1')]\n",
    "subweb3 = [('s1', 's3'), ('s2', 'j1')]"
   ]
  },
  {
   "cell_type": "code",
   "execution_count": 7,
   "id": "b77df705",
   "metadata": {},
   "outputs": [
    {
     "name": "stdout",
     "output_type": "stream",
     "text": [
      "[[('j1', 's2'), ('s1', 'j1'), ('j1', 's3'), ('s2', 'j1')], [('j1', 's2'), ('s1', 'j1'), ('s1', 's3'), ('s2', 'j1')], [('j1', 's3'), ('s2', 'j1'), ('s1', 's3'), ('s2', 'j1')], [('j1', 's2'), ('s1', 'j1'), ('j1', 's3'), ('s2', 'j1'), ('s1', 's3'), ('s2', 'j1')]]\n"
     ]
    }
   ],
   "source": [
    "print(\n",
    "    web.all_unions_of_subwebs([subweb1, subweb2, subweb3])\n",
    ")"
   ]
  },
  {
   "cell_type": "code",
   "execution_count": null,
   "id": "97b2d0aa",
   "metadata": {},
   "outputs": [],
   "source": []
  }
 ],
 "metadata": {
  "kernelspec": {
   "display_name": "quivers",
   "language": "python",
   "name": "python3"
  },
  "language_info": {
   "codemirror_mode": {
    "name": "ipython",
    "version": 3
   },
   "file_extension": ".py",
   "mimetype": "text/x-python",
   "name": "python",
   "nbconvert_exporter": "python",
   "pygments_lexer": "ipython3",
   "version": "3.13.5"
  }
 },
 "nbformat": 4,
 "nbformat_minor": 5
}
