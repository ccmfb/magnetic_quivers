{
 "cells": [
  {
   "cell_type": "markdown",
   "id": "ab00bf69",
   "metadata": {},
   "source": [
    "Testing on various known examples to check validity of code."
   ]
  },
  {
   "cell_type": "markdown",
   "id": "2cf4042f",
   "metadata": {},
   "source": []
  }
 ],
 "metadata": {
  "language_info": {
   "name": "python"
  }
 },
 "nbformat": 4,
 "nbformat_minor": 5
}
