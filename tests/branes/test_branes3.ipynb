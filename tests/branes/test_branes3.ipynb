{
 "cells": [
  {
   "cell_type": "code",
   "execution_count": 3,
   "id": "ea6e1725",
   "metadata": {},
   "outputs": [],
   "source": [
    "from brane_webs import Brane, BraneWeb, SuperBraneWeb, D7Brane\n",
    "delta = 0.1"
   ]
  },
  {
   "cell_type": "code",
   "execution_count": 4,
   "id": "3fb94a86",
   "metadata": {},
   "outputs": [],
   "source": [
    "D7s = [D7Brane() for _ in range(11)]"
   ]
  },
  {
   "cell_type": "code",
   "execution_count": 9,
   "id": "2846f8fd",
   "metadata": {},
   "outputs": [],
   "source": [
    "web1 = BraneWeb([\n",
    "    Brane([0,0], [1,0], 4, starts_on=D7s[0], starts_on_side='inside', ends_on=D7s[1], ends_on_side='inside'),\n",
    "])\n",
    "\n",
    "web2 = BraneWeb([\n",
    "    Brane([4,0], [3,0], 1, starts_on=D7s[1], starts_on_side='outside', ends_on=D7s[2], ends_on_side='inside'),\n",
    "])\n",
    "\n",
    "web3 = BraneWeb([\n",
    "    Brane([5,0], [2,0], 1, starts_on=D7s[2], starts_on_side='outside', ends_on=D7s[3], ends_on_side='inside'),\n",
    "])\n",
    "\n",
    "web4 = BraneWeb([\n",
    "    Brane([6,0], [1,0], 1, starts_on=D7s[3], starts_on_side='outside', ends_on=D7s[4], ends_on_side='inside'),\n",
    "])\n",
    "\n",
    "web5 = BraneWeb([\n",
    "    Brane([1,delta], [1,0], 3, ends_on=D7s[1], ends_on_side='inside'),\n",
    "    Brane([1,delta], [0,-1], 1, ends_on=D7s[5], ends_on_side='inside'),\n",
    "    Brane([1,delta], [-1,1], 1, ends_on=D7s[6], ends_on_side='inside'),\n",
    "])\n",
    "\n",
    "web6 = BraneWeb([\n",
    "    Brane([2,2*delta], [1,0], 2, ends_on=D7s[1], ends_on_side='inside'),\n",
    "    Brane([2,2*delta], [0,-1], 1, ends_on=D7s[7], ends_on_side='inside'),\n",
    "    Brane([2,2*delta], [-1,1], 1, ends_on=D7s[8], ends_on_side='inside'),\n",
    "])\n",
    "\n",
    "web7 = BraneWeb([\n",
    "    Brane([3,3*delta], [1,0], 1, ends_on=D7s[1], ends_on_side='inside'),\n",
    "    Brane([3,3*delta], [0,-1], 1, ends_on=D7s[9], ends_on_side='inside'),\n",
    "    Brane([3,3*delta], [-1,1], 1, ends_on=D7s[10], ends_on_side='inside'),\n",
    "])"
   ]
  },
  {
   "cell_type": "code",
   "execution_count": 11,
   "id": "df17e5d5",
   "metadata": {},
   "outputs": [
    {
     "name": "stdout",
     "output_type": "stream",
     "text": [
      "Edges between 0 and 1: 3\n",
      "Edges between 0 and 2: 0\n",
      "Edges between 0 and 3: 0\n",
      "Edges between 0 and 4: 0\n",
      "Edges between 0 and 5: 0\n",
      "Edges between 0 and 6: 0\n",
      "Edges between 1 and 2: 6\n",
      "Edges between 1 and 3: 0\n",
      "Edges between 1 and 4: 3\n",
      "Edges between 1 and 5: 3\n",
      "Edges between 1 and 6: 3\n",
      "Edges between 2 and 3: 2\n",
      "Edges between 2 and 4: 0\n",
      "Edges between 2 and 5: 0\n",
      "Edges between 2 and 6: 0\n",
      "Edges between 3 and 4: 0\n",
      "Edges between 3 and 5: 0\n",
      "Edges between 3 and 6: 0\n",
      "Edges between 4 and 5: 0\n",
      "Edges between 4 and 6: 0\n",
      "Edges between 5 and 6: 0\n"
     ]
    },
    {
     "data": {
      "image/png": "[encoded data removed]",
      "text/plain": [
       "<Figure size 600x600 with 1 Axes>"
      ]
     },
     "metadata": {},
     "output_type": "display_data"
    }
   ],
   "source": [
    "super_web = SuperBraneWeb([web1, web2, web3, web4, web5, web6, web7])\n",
    "\n",
    "super_web.plot()\n",
    "\n",
    "for i in range(len(super_web)):\n",
    "    for j in range(len(super_web)):\n",
    "        if i < j:\n",
    "            print(f'Edges between {i} and {j}: {super_web.edges(i,j)}')"
   ]
  },
  {
   "cell_type": "code",
   "execution_count": null,
   "id": "e8e5389b",
   "metadata": {},
   "outputs": [],
   "source": []
  }
 ],
 "metadata": {
  "kernelspec": {
   "display_name": "cpp",
   "language": "python",
   "name": "python3"
  },
  "language_info": {
   "codemirror_mode": {
    "name": "ipython",
    "version": 3
   },
   "file_extension": ".py",
   "mimetype": "text/x-python",
   "name": "python",
   "nbconvert_exporter": "python",
   "pygments_lexer": "ipython3",
   "version": "3.11.5"
  }
 },
 "nbformat": 4,
 "nbformat_minor": 5
}
